{
 "cells": [
  {
   "cell_type": "code",
   "execution_count": 4,
   "id": "fab58cc8",
   "metadata": {},
   "outputs": [
    {
     "name": "stdout",
     "output_type": "stream",
     "text": [
      "Please enter first name: Rizwan\n",
      "Please enter last name: Aftab\n",
      "Your full name is:  Rizwan   Aftab\n"
     ]
    }
   ],
   "source": [
    "fname = input(\"Please enter first name: \" )\n",
    "lname = input(\"Please enter last name: \")\n",
    "print(\"Your full name is: \",fname, \" \", lname)"
   ]
  },
  {
   "cell_type": "code",
   "execution_count": 17,
   "id": "58d55a49",
   "metadata": {},
   "outputs": [],
   "source": [
    "x=5\n",
    "def add():\n",
    "    x =3\n",
    "    x =x+5\n",
    "    print(x)"
   ]
  },
  {
   "cell_type": "code",
   "execution_count": 18,
   "id": "3d089d92",
   "metadata": {},
   "outputs": [
    {
     "name": "stdout",
     "output_type": "stream",
     "text": [
      "8\n",
      "5\n"
     ]
    }
   ],
   "source": [
    "add()\n",
    "print(x)"
   ]
  },
  {
   "cell_type": "code",
   "execution_count": null,
   "id": "a5cfb5d4",
   "metadata": {},
   "outputs": [],
   "source": [
    "contiuation with list datatypr :"
   ]
  },
  {
   "cell_type": "code",
   "execution_count": null,
   "id": "5b39b8be",
   "metadata": {},
   "outputs": [],
   "source": []
  },
  {
   "cell_type": "code",
   "execution_count": null,
   "id": "140d45cb",
   "metadata": {},
   "outputs": [],
   "source": [
    "organising the list datatype :"
   ]
  },
  {
   "cell_type": "code",
   "execution_count": null,
   "id": "6094efe8",
   "metadata": {},
   "outputs": [],
   "source": []
  },
  {
   "cell_type": "code",
   "execution_count": 20,
   "id": "9c394a98",
   "metadata": {},
   "outputs": [],
   "source": [
    "cars = ['suzuki','audi','maruti','volvo','benz','rangrover','bmw',]"
   ]
  },
  {
   "cell_type": "code",
   "execution_count": 21,
   "id": "c72e504b",
   "metadata": {},
   "outputs": [
    {
     "name": "stdout",
     "output_type": "stream",
     "text": [
      "['suzuki', 'audi', 'maruti', 'volvo', 'benz', 'rangrover', 'bmw']\n"
     ]
    }
   ],
   "source": [
    "print(cars)"
   ]
  },
  {
   "cell_type": "code",
   "execution_count": null,
   "id": "3e175245",
   "metadata": {},
   "outputs": [],
   "source": []
  },
  {
   "cell_type": "code",
   "execution_count": null,
   "id": "3400eb4b",
   "metadata": {},
   "outputs": [],
   "source": [
    "#req : i want to organise the above car brands in the alphabetical order ....? A - z"
   ]
  },
  {
   "cell_type": "code",
   "execution_count": null,
   "id": "c62680fc",
   "metadata": {},
   "outputs": [],
   "source": []
  },
  {
   "cell_type": "code",
   "execution_count": null,
   "id": "10b6a144",
   "metadata": {},
   "outputs": [],
   "source": [
    "# two diff approches :\n",
    "\n",
    "1. temp approach =========> sorted===== original order\n",
    "2. per approach ==========> sort========permanently"
   ]
  },
  {
   "cell_type": "code",
   "execution_count": null,
   "id": "db5333e6",
   "metadata": {},
   "outputs": [],
   "source": []
  },
  {
   "cell_type": "code",
   "execution_count": 22,
   "id": "4635b906",
   "metadata": {},
   "outputs": [
    {
     "name": "stdout",
     "output_type": "stream",
     "text": [
      "['audi', 'benz', 'bmw', 'maruti', 'rangrover', 'suzuki', 'volvo']\n"
     ]
    }
   ],
   "source": [
    "# approach -1\n",
    "\n",
    "print(sorted(cars))"
   ]
  },
  {
   "cell_type": "code",
   "execution_count": 24,
   "id": "790878b3",
   "metadata": {},
   "outputs": [
    {
     "name": "stdout",
     "output_type": "stream",
     "text": [
      "['suzuki', 'audi', 'maruti', 'volvo', 'benz', 'rangrover', 'bmw']\n"
     ]
    }
   ],
   "source": [
    "print(cars) # original order......"
   ]
  },
  {
   "cell_type": "code",
   "execution_count": 25,
   "id": "3a2fc7ed",
   "metadata": {},
   "outputs": [
    {
     "name": "stdout",
     "output_type": "stream",
     "text": [
      "['suzuki', 'audi', 'maruti', 'volvo', 'benz', 'rangrover', 'bmw']\n"
     ]
    }
   ],
   "source": [
    "print(cars)"
   ]
  },
  {
   "cell_type": "code",
   "execution_count": 27,
   "id": "de499eee",
   "metadata": {},
   "outputs": [],
   "source": [
    "# approach 2 : permanent approach\n",
    "\n",
    "cars.sort()"
   ]
  },
  {
   "cell_type": "code",
   "execution_count": 28,
   "id": "a18c8fc1",
   "metadata": {},
   "outputs": [
    {
     "name": "stdout",
     "output_type": "stream",
     "text": [
      "['audi', 'benz', 'bmw', 'maruti', 'rangrover', 'suzuki', 'volvo']\n"
     ]
    }
   ],
   "source": [
    "print(cars)"
   ]
  },
  {
   "cell_type": "code",
   "execution_count": 29,
   "id": "790e69ef",
   "metadata": {},
   "outputs": [
    {
     "name": "stdout",
     "output_type": "stream",
     "text": [
      "['audi', 'benz', 'bmw', 'maruti', 'rangrover', 'suzuki', 'volvo']\n"
     ]
    }
   ],
   "source": [
    "print(cars)"
   ]
  },
  {
   "cell_type": "code",
   "execution_count": null,
   "id": "42c8a863",
   "metadata": {},
   "outputs": [],
   "source": [
    "# B E, B M ======> e & m ======> e"
   ]
  },
  {
   "cell_type": "code",
   "execution_count": null,
   "id": "bbec02a1",
   "metadata": {},
   "outputs": [],
   "source": [
    "interview question : what the diff between sorted and sort method in a list.....?"
   ]
  },
  {
   "cell_type": "code",
   "execution_count": null,
   "id": "990c3227",
   "metadata": {},
   "outputs": [],
   "source": []
  },
  {
   "cell_type": "code",
   "execution_count": 30,
   "id": "4eb0d646",
   "metadata": {},
   "outputs": [
    {
     "name": "stdout",
     "output_type": "stream",
     "text": [
      "['audi', 'benz', 'bmw', 'maruti', 'rangrover', 'suzuki', 'volvo']\n"
     ]
    }
   ],
   "source": [
    "print(cars)"
   ]
  },
  {
   "cell_type": "code",
   "execution_count": 31,
   "id": "cab50d3f",
   "metadata": {},
   "outputs": [],
   "source": [
    "# req : i want to count the no of elements in yhe list...?"
   ]
  },
  {
   "cell_type": "code",
   "execution_count": 32,
   "id": "cd5f5ef2",
   "metadata": {},
   "outputs": [
    {
     "data": {
      "text/plain": [
       "7"
      ]
     },
     "execution_count": 32,
     "metadata": {},
     "output_type": "execute_result"
    }
   ],
   "source": [
    "len(cars)"
   ]
  },
  {
   "cell_type": "code",
   "execution_count": 35,
   "id": "49d902b5",
   "metadata": {},
   "outputs": [],
   "source": [
    "# req : how to reserve the elements of the list....?"
   ]
  },
  {
   "cell_type": "code",
   "execution_count": 38,
   "id": "c0b93843",
   "metadata": {},
   "outputs": [],
   "source": [
    "cars.reverse() # changes will be implied permanently...."
   ]
  },
  {
   "cell_type": "code",
   "execution_count": 39,
   "id": "971402df",
   "metadata": {},
   "outputs": [
    {
     "name": "stdout",
     "output_type": "stream",
     "text": [
      "['volvo', 'suzuki', 'rangrover', 'maruti', 'bmw', 'benz', 'audi']\n"
     ]
    }
   ],
   "source": [
    "print(cars) # Z -A"
   ]
  },
  {
   "cell_type": "code",
   "execution_count": null,
   "id": "b269b5b7",
   "metadata": {},
   "outputs": [],
   "source": []
  },
  {
   "cell_type": "code",
   "execution_count": null,
   "id": "c396863c",
   "metadata": {},
   "outputs": [],
   "source": [
    "slicing the list datatype :"
   ]
  },
  {
   "cell_type": "code",
   "execution_count": null,
   "id": "d8e1b991",
   "metadata": {},
   "outputs": [],
   "source": []
  },
  {
   "cell_type": "code",
   "execution_count": null,
   "id": "3a2a335e",
   "metadata": {},
   "outputs": [],
   "source": [
    "# general syntax of slicing :\n",
    "\n",
    "[start value : stopvalue : step count]\n",
    "\n",
    "Note : stop value is always exclusive, to include the stop value we have to increment the index by +1."
   ]
  },
  {
   "cell_type": "code",
   "execution_count": null,
   "id": "22d765f6",
   "metadata": {},
   "outputs": [],
   "source": []
  },
  {
   "cell_type": "code",
   "execution_count": 41,
   "id": "d0cc39f8",
   "metadata": {},
   "outputs": [],
   "source": [
    "students = ['divya','roohi','jasmine','neha','ravi','abdul','joseph','manpreet']"
   ]
  },
  {
   "cell_type": "code",
   "execution_count": 42,
   "id": "dd1e7e89",
   "metadata": {},
   "outputs": [
    {
     "name": "stdout",
     "output_type": "stream",
     "text": [
      "['divya', 'roohi', 'jasmine', 'neha', 'ravi', 'abdul', 'joseph', 'manpreet']\n"
     ]
    }
   ],
   "source": [
    "print(students)"
   ]
  },
  {
   "cell_type": "code",
   "execution_count": null,
   "id": "5199f601",
   "metadata": {},
   "outputs": [],
   "source": [
    "# i want to include divya and roohi in the slice...."
   ]
  },
  {
   "cell_type": "code",
   "execution_count": 43,
   "id": "123e6d65",
   "metadata": {},
   "outputs": [
    {
     "name": "stdout",
     "output_type": "stream",
     "text": [
      "['jasmine', 'neha']\n"
     ]
    }
   ],
   "source": [
    "print(students[2:4])"
   ]
  },
  {
   "cell_type": "code",
   "execution_count": 44,
   "id": "1fb74b84",
   "metadata": {},
   "outputs": [],
   "source": [
    "# ravi and abdul"
   ]
  },
  {
   "cell_type": "code",
   "execution_count": 45,
   "id": "5ac06f45",
   "metadata": {},
   "outputs": [
    {
     "name": "stdout",
     "output_type": "stream",
     "text": [
      "['ravi', 'abdul']\n"
     ]
    }
   ],
   "source": [
    "print(students[4:6])"
   ]
  },
  {
   "cell_type": "code",
   "execution_count": 46,
   "id": "c6e65643",
   "metadata": {},
   "outputs": [],
   "source": [
    "#joseph and manpreet"
   ]
  },
  {
   "cell_type": "code",
   "execution_count": 47,
   "id": "abec0a80",
   "metadata": {},
   "outputs": [
    {
     "name": "stdout",
     "output_type": "stream",
     "text": [
      "['joseph', 'manpreet']\n"
     ]
    }
   ],
   "source": [
    "print(students[6:8])"
   ]
  },
  {
   "cell_type": "code",
   "execution_count": 48,
   "id": "5b3fc5aa",
   "metadata": {},
   "outputs": [
    {
     "name": "stdout",
     "output_type": "stream",
     "text": [
      "['divya', 'jasmine', 'ravi', 'joseph']\n"
     ]
    }
   ],
   "source": [
    "print(students[0:8:2])"
   ]
  },
  {
   "cell_type": "code",
   "execution_count": 49,
   "id": "54be3756",
   "metadata": {},
   "outputs": [
    {
     "name": "stdout",
     "output_type": "stream",
     "text": [
      "['divya', 'roohi', 'jasmine', 'neha', 'ravi', 'abdul', 'joseph', 'manpreet']\n"
     ]
    }
   ],
   "source": [
    "print(students)"
   ]
  }
 ],
 "metadata": {
  "kernelspec": {
   "display_name": "Python 3 (ipykernel)",
   "language": "python",
   "name": "python3"
  },
  "language_info": {
   "codemirror_mode": {
    "name": "ipython",
    "version": 3
   },
   "file_extension": ".py",
   "mimetype": "text/x-python",
   "name": "python",
   "nbconvert_exporter": "python",
   "pygments_lexer": "ipython3",
   "version": "3.9.12"
  }
 },
 "nbformat": 4,
 "nbformat_minor": 5
}
